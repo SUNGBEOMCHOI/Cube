{
 "cells": [
  {
   "cell_type": "code",
   "execution_count": null,
   "metadata": {},
   "outputs": [],
   "source": [
    "from env import make_env"
   ]
  },
  {
   "cell_type": "code",
   "execution_count": null,
   "metadata": {},
   "outputs": [],
   "source": [
    "import matplotlib.pyplot as plt"
   ]
  },
  {
   "cell_type": "code",
   "execution_count": null,
   "metadata": {},
   "outputs": [],
   "source": [
    "env = make_env('cpu', 3)"
   ]
  },
  {
   "cell_type": "code",
   "execution_count": null,
   "metadata": {},
   "outputs": [],
   "source": [
    "env.show_cube = True"
   ]
  },
  {
   "cell_type": "code",
   "execution_count": null,
   "metadata": {},
   "outputs": [],
   "source": [
    "env.init_state()"
   ]
  },
  {
   "cell_type": "code",
   "execution_count": null,
   "metadata": {},
   "outputs": [],
   "source": [
    "env.fig"
   ]
  },
  {
   "cell_type": "code",
   "execution_count": null,
   "metadata": {},
   "outputs": [],
   "source": [
    "env.reset()"
   ]
  },
  {
   "cell_type": "code",
   "execution_count": null,
   "metadata": {},
   "outputs": [],
   "source": [
    "env.fig"
   ]
  },
  {
   "cell_type": "code",
   "execution_count": null,
   "metadata": {},
   "outputs": [],
   "source": [
    "from pycuber import *\n",
    "\n",
    "def isSolved(sim_cube):\n",
    "    solved = True\n",
    "    if sim_cube.D == [[Square(sim_cube[\"D\"].colour)] * 3] * 3:\n",
    "        for face in \"LFRB\":\n",
    "            if sim_cube.get_face(face)[:] != [[Square(sim_cube[face].colour)] * 3] * 3:\n",
    "                solved = False\n",
    "    else:\n",
    "        solved = False\n",
    "    return solved"
   ]
  },
  {
   "cell_type": "code",
   "execution_count": null,
   "metadata": {},
   "outputs": [],
   "source": [
    "env2 = make_env('cpu', 3)"
   ]
  },
  {
   "cell_type": "code",
   "execution_count": null,
   "metadata": {},
   "outputs": [],
   "source": [
    "env2.show_cube = True"
   ]
  },
  {
   "cell_type": "code",
   "execution_count": null,
   "metadata": {},
   "outputs": [],
   "source": [
    "env2.init_state()"
   ]
  },
  {
   "cell_type": "code",
   "execution_count": null,
   "metadata": {},
   "outputs": [],
   "source": [
    "env2.fig"
   ]
  },
  {
   "cell_type": "code",
   "execution_count": null,
   "metadata": {},
   "outputs": [],
   "source": [
    "env2.sim_cube"
   ]
  },
  {
   "cell_type": "code",
   "execution_count": null,
   "metadata": {},
   "outputs": [],
   "source": [
    "isSolved(env2.sim_cube)"
   ]
  },
  {
   "cell_type": "code",
   "execution_count": null,
   "metadata": {},
   "outputs": [],
   "source": [
    "env2.sim_cube.perform_step(\"U\")"
   ]
  },
  {
   "cell_type": "code",
   "execution_count": null,
   "metadata": {},
   "outputs": [],
   "source": [
    "action = 0\n",
    "face, degree = env.action_to_sim_action['render'][action]\n",
    "env2.fig.axes[3].rotate_face(face, degree, layer = 0)\n",
    "env2.fig"
   ]
  },
  {
   "cell_type": "code",
   "execution_count": null,
   "metadata": {},
   "outputs": [],
   "source": [
    "isSolved(env2.sim_cube)"
   ]
  },
  {
   "cell_type": "code",
   "execution_count": null,
   "metadata": {},
   "outputs": [],
   "source": [
    "env2.init_state()\n",
    "env2.sim_cube.perform_step(\"U\")\n",
    "for action in range(env2.action_dim):\n",
    "    # print(\"########################################\")\n",
    "    print(env2.sim_cube)\n",
    "    sim_action = env2.action_to_sim_action[env2.cube_size][action]\n",
    "    # next_sim_cube = env2.sim_cube.perform_step(sim_action)\n",
    "    # print(next_sim_cube)\n",
    "    if action % 2 == 0:\n",
    "        counter_action = action + 1\n",
    "    else:\n",
    "        counter_action = action - 1\n",
    "    if isSolved(env2.sim_cube.perform_step(sim_action)):\n",
    "        reward = 1.0\n",
    "        target_value, target_policy = 1.0, action\n",
    "        print(\"Solved!\")\n",
    "        print(env2.sim_cube)\n",
    "        print(env2.action_to_sim_action[env2.cube_size][counter_action])\n",
    "        break\n",
    "    else:\n",
    "        reward = -1.0\n",
    "    env2.sim_cube.perform_step(env2.action_to_sim_action[env2.cube_size][counter_action])\n",
    "    \n",
    "    # if isSolved_(next_sim_cube) == 1:\n",
    "    "
   ]
  },
  {
   "cell_type": "code",
   "execution_count": null,
   "metadata": {},
   "outputs": [],
   "source": [
    "env3 = make_env('cpu', 3)"
   ]
  },
  {
   "cell_type": "code",
   "execution_count": null,
   "metadata": {},
   "outputs": [],
   "source": [
    "env3.show_cube = True"
   ]
  },
  {
   "cell_type": "code",
   "execution_count": null,
   "metadata": {},
   "outputs": [],
   "source": [
    "env3.sim_cube"
   ]
  },
  {
   "cell_type": "code",
   "execution_count": null,
   "metadata": {},
   "outputs": [],
   "source": [
    "import copy"
   ]
  },
  {
   "cell_type": "code",
   "execution_count": null,
   "metadata": {},
   "outputs": [],
   "source": [
    "state = env3.sim_state_to_state(env3.sim_cube)"
   ]
  },
  {
   "cell_type": "code",
   "execution_count": null,
   "metadata": {},
   "outputs": [],
   "source": [
    "env3.sim_cube.perform_step(\"U\")"
   ]
  },
  {
   "cell_type": "code",
   "execution_count": null,
   "metadata": {},
   "outputs": [],
   "source": [
    "next_state = env3.sim_state_to_state(env3.sim_cube)"
   ]
  },
  {
   "cell_type": "code",
   "execution_count": null,
   "metadata": {},
   "outputs": [],
   "source": [
    "state == next_state"
   ]
  },
  {
   "cell_type": "code",
   "execution_count": null,
   "metadata": {},
   "outputs": [],
   "source": [
    "if next_cube.D == [[Square(next_cube[\"D\"].colour)] * 3] * 3:\n",
    "    for face in \"LFRB\":\n",
    "        if next_cube.get_face(face)[:] != [[Square(next_cube[face].colour)] * 3] * 3:\n",
    "            print(\"Not Solved!\")"
   ]
  },
  {
   "cell_type": "code",
   "execution_count": null,
   "metadata": {},
   "outputs": [],
   "source": [
    "next_cube.perform_step(\"U'\")"
   ]
  },
  {
   "cell_type": "code",
   "execution_count": null,
   "metadata": {},
   "outputs": [],
   "source": [
    "if next_cube.D == [[Square(next_cube[\"D\"].colour)] * 3] * 3:\n",
    "    for face in \"LFRB\":\n",
    "        if next_cube.get_face(face)[:] != [[Square(next_cube[face].colour)] * 3] * 3:\n",
    "            print(\"Not Solved!\")\n",
    "else:\n",
    "    print(\"Not Solved!\")"
   ]
  },
  {
   "cell_type": "code",
   "execution_count": null,
   "metadata": {},
   "outputs": [],
   "source": [
    "import yaml"
   ]
  },
  {
   "cell_type": "code",
   "execution_count": null,
   "metadata": {},
   "outputs": [],
   "source": [
    "with open('./config/config.yaml') as f:\n",
    "    cfg = yaml.safe_load(f)"
   ]
  },
  {
   "cell_type": "code",
   "execution_count": null,
   "metadata": {},
   "outputs": [],
   "source": [
    "hidden_dim = cfg['model']['hidden_dim']"
   ]
  },
  {
   "cell_type": "code",
   "execution_count": null,
   "metadata": {},
   "outputs": [],
   "source": [
    "hidden_dim"
   ]
  },
  {
   "cell_type": "code",
   "execution_count": 61,
   "metadata": {},
   "outputs": [],
   "source": [
    "import numpy as np"
   ]
  },
  {
   "cell_type": "code",
   "execution_count": 62,
   "metadata": {},
   "outputs": [],
   "source": [
    "moveInds = { \\\n",
    "  \"U\": 0, \"U'\": 1, \"D\": 2, \"D'\": 3, \"F\": 4, \"F'\": 5, \n",
    "  \"B\": 6, \"B'\": 7, \"L\": 8, \"L'\": 9, \"R\": 10, \"R'\": 11\n",
    "}"
   ]
  },
  {
   "cell_type": "code",
   "execution_count": 63,
   "metadata": {},
   "outputs": [],
   "source": [
    "corner_pieceDefs = np.array([ \\\n",
    "  [ 0, 47, 36], \\\n",
    "  [ 6, 38, 18], \\\n",
    "  [ 8, 20,  9], \\\n",
    "  [ 2, 11, 45], \\\n",
    "  [33, 42, 53], \\\n",
    "  [27, 24, 44], \\\n",
    "  [29, 26, 15], \\\n",
    "  [35, 51, 17], \\\n",
    "])"
   ]
  },
  {
   "cell_type": "code",
   "execution_count": 110,
   "metadata": {},
   "outputs": [],
   "source": [
    "edge_pieceDefs = np.array([\\\n",
    "  [  1, 46], \\\n",
    "  [  3, 37], \\\n",
    "  [  7, 19], \\\n",
    "  [  5, 10], \\\n",
    "  [ 34, 52], \\\n",
    "  [ 30, 43], \\\n",
    "  [ 28, 25], \\\n",
    "  [ 32, 16], \\\n",
    "  [ 21, 41], \\\n",
    "  [ 23, 12], \\\n",
    "  [ 48, 14], \\\n",
    "  [ 50, 39], \\\n",
    "    ])"
   ]
  },
  {
   "cell_type": "code",
   "execution_count": 111,
   "metadata": {},
   "outputs": [],
   "source": [
    "moveDefs = np.array([ \\\n",
    "# U\n",
    "[    6,  3,  0,  7,  4,  1,  8,  5,  2, \\\n",
    "    45, 46, 47, 12, 13, 14, 15, 16, 17, \\\n",
    "     9, 10, 11, 21, 22, 23, 24, 25, 26, \\\n",
    "    27, 28, 29, 30, 31, 32, 33, 34, 35, \\\n",
    "    18, 19, 20, 39, 40, 41, 42, 43, 44, \\\n",
    "    36, 37, 38, 48, 49, 50, 51, 52, 53],\\\n",
    "# U'\n",
    "[   2,  5,  8,  1,  4,  7,  0,  3,  6,  \\\n",
    "    18, 19, 20, 12, 13, 14, 15, 16, 17, \\\n",
    "    36, 37, 38, 21, 22, 23, 24, 25, 26, \\\n",
    "    27, 28, 29, 30, 31, 32, 33, 34, 35, \\\n",
    "    45, 46, 47, 39, 40, 41, 42, 43, 44, \\\n",
    "     9, 10, 11, 48, 49, 50, 51, 52, 53],\\\n",
    "# D\n",
    "[   0,  1,  2,  3,  4,  5,  6,  7,  8,  \\\n",
    "    9,  10, 11, 12, 13, 14, 24, 25, 26, \\\n",
    "    18, 19, 20, 21, 22, 23, 42, 43, 44, \\\n",
    "    33, 30, 27, 34, 31, 28, 35, 32, 29, \\\n",
    "    36, 37, 38, 39, 40, 41, 51, 52, 53, \\\n",
    "    45, 46, 47, 48, 49, 50, 15, 16, 17],\\\n",
    "# D'\n",
    "[   0,  1,  2,  3,  4,  5,  6,  7,  8,  \\\n",
    "    9,  10, 11, 12, 13, 14, 51, 52, 53, \\\n",
    "    18, 19, 20, 21, 22, 23, 15, 16, 17, \\\n",
    "    29, 32, 35, 28, 31, 34, 27, 30, 33, \\\n",
    "    36, 37, 38, 39, 40, 41, 24, 25, 26, \\\n",
    "    45, 46, 47, 48, 49, 50, 42, 43, 44],\\\n",
    "# F\n",
    "[   0,  1,  2,  3,  4,  5, 44,  41, 38, \\\n",
    "    6,  10, 11, 7, 13, 14, 8, 16, 17,   \\\n",
    "    24, 21, 18, 25, 22, 19, 26, 23, 20, \\\n",
    "    15, 12, 9, 30, 31, 32, 33, 34, 35,  \\\n",
    "    36, 37, 27, 39, 40, 28, 42, 43, 29, \\\n",
    "    45, 46, 47, 48, 49, 50, 51, 52, 53],\\\n",
    "# F'   \n",
    "[   0,  1,  2,  3,  4,  5,  9,  12,  15,  \\\n",
    "    29,  10, 11, 28, 13, 14, 27, 16, 17, \\\n",
    "    20, 23, 26, 19, 22, 25, 18, 21, 24, \\\n",
    "    38, 41, 44, 30, 31, 32, 33, 34, 35, \\\n",
    "    36, 37, 8, 39, 40, 7, 42, 43, 6, \\\n",
    "    45, 46, 47, 48, 49, 50, 51, 52, 53],\\\n",
    "# B\n",
    "[   11,  14,  7,  3,  4,  5,  6,  7,  8,  \\\n",
    "    9,  10, 35, 12, 13, 34, 15, 16, 33, \\\n",
    "    18, 19, 20, 21, 22, 23, 24, 25, 26, \\\n",
    "    27, 28, 29, 30, 31, 32, 36, 39, 42, \\\n",
    "    2, 37, 38, 1, 40, 41, 0, 43, 44, \\\n",
    "    51, 48, 45, 52, 49, 46, 53, 50, 47],\\\n",
    "# B'\n",
    "[   42,  39,  36,  3,  4,  5,  6,  7,  8,  \\\n",
    "    9,  10, 0, 12, 13, 1, 15, 16, 2, \\\n",
    "    18, 19, 20, 21, 22, 23, 24, 25, 26, \\\n",
    "    27, 28, 29, 30, 31, 32, 17, 14, 11, \\\n",
    "    33, 37, 38, 34, 40, 41, 25, 43, 44, \\\n",
    "    47, 50, 53, 46, 49, 52, 45, 48, 51],\\\n",
    "# L\n",
    "[   53,  1,  2,  50,  4,  5,  47,  7,  8,  \\\n",
    "    9,  10, 11, 12, 13, 14, 15, 16, 17, \\\n",
    "    0, 19, 20, 3, 22, 23, 6, 25, 26, \\\n",
    "    18, 28, 29, 21, 31, 32, 24, 34, 35, \\\n",
    "    42, 39, 36, 43, 40, 37, 44, 41, 38, \\\n",
    "    45, 46, 33, 48, 49, 30, 51, 52, 27],\\\n",
    "# L'\n",
    "[   18,  1,  2,  21,  4,  5,  24,  7,  8,  \\\n",
    "    9,  10, 11, 12, 13, 14, 15, 16, 17, \\\n",
    "    53, 19, 20, 30, 22, 23, 33, 25, 26, \\\n",
    "    27, 28, 29, 50, 31, 32, 47, 34, 35, \\\n",
    "    36, 37, 38, 39, 40, 41, 42, 43, 44, \\\n",
    "    45, 46, 6, 48, 49, 3, 51, 52, 0],\\\n",
    "# R\n",
    "[   0,  1,  20,  3,  4,  23,  6,  7,  26,  \\\n",
    "    15,  12, 9, 16, 13, 10, 17, 14, 11, \\\n",
    "    18, 19, 29, 21, 22, 32, 24, 25, 35, \\\n",
    "    27, 28, 51, 30, 31, 48, 33, 34, 45, \\\n",
    "    36, 37, 38, 39, 40, 41, 42, 43, 44, \\\n",
    "    8, 46, 47, 5, 49, 50, 2, 52, 53],\\\n",
    "# R'\n",
    "[   0,  1,  51,  3,  4,  48,  6,  7,  45,  \\\n",
    "    11,  14, 17, 10, 13, 16, 9, 12, 15, \\\n",
    "    18, 19, 2, 21, 22, 5, 24, 25, 8, \\\n",
    "    27, 28, 20, 30, 31, 23, 33, 34, 26, \\\n",
    "    36, 37, 38, 39, 40, 41, 42, 43, 44, \\\n",
    "    35, 46, 47, 32, 49, 50, 29, 52, 53],\\\n",
    "])"
   ]
  },
  {
   "cell_type": "code",
   "execution_count": 112,
   "metadata": {},
   "outputs": [],
   "source": [
    "def initState_3():\n",
    "    return np.array([\n",
    "        0, 0, 0, 0, 0, 0, 0, 0, 0,\\\n",
    "        1, 1, 1, 1, 1, 1, 1, 1, 1,\\\n",
    "        2, 2, 2, 2, 2, 2, 2, 2, 2,\\\n",
    "        3, 3, 3, 3, 3, 3, 3, 3, 3,\\\n",
    "        4, 4, 4, 4, 4, 4, 4, 4, 4,\\\n",
    "        5, 5, 5, 5, 5, 5, 5, 5, 5])"
   ]
  },
  {
   "cell_type": "code",
   "execution_count": 113,
   "metadata": {},
   "outputs": [],
   "source": [
    "def doMove_3(s, move):\n",
    "    move = moveInds[move]\n",
    "    return s[moveDefs[move]]"
   ]
  },
  {
   "cell_type": "code",
   "execution_count": 114,
   "metadata": {},
   "outputs": [],
   "source": [
    "s = initState_3()"
   ]
  },
  {
   "cell_type": "code",
   "execution_count": 115,
   "metadata": {},
   "outputs": [
    {
     "data": {
      "text/plain": [
       "array([[0, 5, 4],\n",
       "       [0, 4, 2],\n",
       "       [0, 2, 1],\n",
       "       [0, 1, 5],\n",
       "       [3, 4, 5],\n",
       "       [3, 2, 4],\n",
       "       [3, 2, 1],\n",
       "       [3, 5, 1]])"
      ]
     },
     "execution_count": 115,
     "metadata": {},
     "output_type": "execute_result"
    }
   ],
   "source": [
    "s[corner_pieceDefs]"
   ]
  },
  {
   "cell_type": "code",
   "execution_count": 116,
   "metadata": {},
   "outputs": [
    {
     "data": {
      "text/plain": [
       "array([[0, 5],\n",
       "       [0, 4],\n",
       "       [0, 2],\n",
       "       [0, 1],\n",
       "       [3, 5],\n",
       "       [3, 4],\n",
       "       [3, 2],\n",
       "       [3, 1],\n",
       "       [2, 4],\n",
       "       [2, 1],\n",
       "       [5, 1],\n",
       "       [5, 4]])"
      ]
     },
     "execution_count": 116,
     "metadata": {},
     "output_type": "execute_result"
    }
   ],
   "source": [
    "s[edge_pieceDefs]"
   ]
  },
  {
   "cell_type": "code",
   "execution_count": 117,
   "metadata": {},
   "outputs": [],
   "source": [
    "corner_hashOP = np.array([1, 2, 10])"
   ]
  },
  {
   "cell_type": "code",
   "execution_count": 118,
   "metadata": {},
   "outputs": [
    {
     "data": {
      "text/plain": [
       "array([50, 28, 14, 52, 61, 47, 17, 23])"
      ]
     },
     "execution_count": 118,
     "metadata": {},
     "output_type": "execute_result"
    }
   ],
   "source": [
    "np.dot(s[corner_pieceDefs], corner_hashOP)"
   ]
  },
  {
   "cell_type": "code",
   "execution_count": 119,
   "metadata": {},
   "outputs": [],
   "source": [
    "edge_hashOP = np.array([1, 10])"
   ]
  },
  {
   "cell_type": "code",
   "execution_count": 120,
   "metadata": {},
   "outputs": [
    {
     "data": {
      "text/plain": [
       "array([50, 40, 20, 10, 53, 43, 23, 13, 42, 12, 15, 45])"
      ]
     },
     "execution_count": 120,
     "metadata": {},
     "output_type": "execute_result"
    }
   ],
   "source": [
    "np.dot(s[edge_pieceDefs], edge_hashOP)"
   ]
  },
  {
   "cell_type": "code",
   "execution_count": 121,
   "metadata": {},
   "outputs": [],
   "source": [
    "corner_cases = {}\n",
    "s = initState_3()\n",
    "corner_cases['init'] = np.dot(s[corner_pieceDefs], corner_hashOP)\n",
    "for action in moveInds.keys():   \n",
    "    s = doMove_3(s, action)\n",
    "    corner_cases[action] = np.dot(s[corner_pieceDefs], corner_hashOP)\n",
    "    s = initState_3()"
   ]
  },
  {
   "cell_type": "code",
   "execution_count": 122,
   "metadata": {},
   "outputs": [
    {
     "data": {
      "text/plain": [
       "{'init': array([50, 28, 14, 52, 61, 47, 17, 23]),\n",
       " 'U': array([28, 14, 52, 50, 61, 47, 17, 23]),\n",
       " \"U'\": array([52, 50, 28, 14, 61, 47, 17, 23]),\n",
       " 'D': array([50, 28, 14, 52, 23, 61, 31, 25]),\n",
       " \"D'\": array([50, 28, 14, 52, 47, 25, 55, 61]),\n",
       " 'F': array([50, 30,  8, 52, 61, 35,  5, 23]),\n",
       " \"F'\": array([50, 21, 35, 52, 61,  8, 38, 23]),\n",
       " 'B': array([11, 28, 14, 56, 54, 47, 17, 44]),\n",
       " \"B'\": array([44, 28, 14, 54, 55, 47, 17, 11]),\n",
       " 'L': array([51, 13, 14, 52, 40, 42, 17, 23]),\n",
       " \"L'\": array([42, 60, 14, 52, 13, 49, 17, 23]),\n",
       " 'R': array([50, 28, 18,  4, 61, 47, 21, 15]),\n",
       " \"R'\": array([50, 28, 15, 37, 61, 47, 12, 18])}"
      ]
     },
     "execution_count": 122,
     "metadata": {},
     "output_type": "execute_result"
    }
   ],
   "source": [
    "corner_cases"
   ]
  },
  {
   "cell_type": "code",
   "execution_count": 123,
   "metadata": {},
   "outputs": [],
   "source": [
    "edge_cases = {}\n",
    "s = initState_3()\n",
    "edge_cases['init'] = np.dot(s[edge_pieceDefs], edge_hashOP)\n",
    "for action in moveInds.keys():   \n",
    "    s = doMove_3(s, action)\n",
    "    edge_cases[action] = np.dot(s[edge_pieceDefs], edge_hashOP)\n",
    "    s = initState_3()"
   ]
  },
  {
   "cell_type": "code",
   "execution_count": 124,
   "metadata": {},
   "outputs": [
    {
     "data": {
      "text/plain": [
       "{'init': array([50, 40, 20, 10, 53, 43, 23, 13, 42, 12, 15, 45]),\n",
       " 'U': array([40, 20, 10, 50, 53, 43, 23, 13, 42, 12, 15, 45]),\n",
       " \"U'\": array([10, 50, 40, 20, 53, 43, 23, 13, 42, 12, 15, 45]),\n",
       " 'D': array([50, 40, 20, 10, 13, 53, 43, 23, 42, 12, 15, 45]),\n",
       " \"D'\": array([50, 40, 20, 10, 43, 23, 13, 53, 42, 12, 15, 45]),\n",
       " 'F': array([50, 40, 24, 10, 53, 43, 21, 13, 32,  2, 15, 45]),\n",
       " \"F'\": array([50, 40, 21, 10, 53, 43, 24, 13,  2, 32, 15, 45]),\n",
       " 'B': array([51, 40, 20, 10, 54, 43, 23, 13, 42, 12, 35,  5]),\n",
       " \"B'\": array([54, 40, 20, 10, 51, 43, 23, 13, 42, 12,  5, 35]),\n",
       " 'L': array([50, 45, 20, 10, 53, 42, 23, 13, 40, 12, 15, 43]),\n",
       " \"L'\": array([50, 42, 20, 10, 53, 45, 23, 13, 43, 12, 15, 40]),\n",
       " 'R': array([50, 40, 20, 12, 53, 43, 23, 15, 42, 13, 10, 45]),\n",
       " \"R'\": array([50, 40, 20, 15, 53, 43, 23, 12, 42, 10, 13, 45])}"
      ]
     },
     "execution_count": 124,
     "metadata": {},
     "output_type": "execute_result"
    }
   ],
   "source": [
    "edge_cases"
   ]
  },
  {
   "cell_type": "code",
   "execution_count": 125,
   "metadata": {},
   "outputs": [],
   "source": [
    "def isSolved_3(s):\n",
    "  for i in range(6):\n",
    "    if not (s[9 * i:9 * i + 9] == s[9 * i]).all():\n",
    "      return False\n",
    "  return True"
   ]
  },
  {
   "cell_type": "code",
   "execution_count": 20,
   "metadata": {},
   "outputs": [
    {
     "data": {
      "text/plain": [
       "True"
      ]
     },
     "execution_count": 20,
     "metadata": {},
     "output_type": "execute_result"
    }
   ],
   "source": [
    "isSolved_3(s)"
   ]
  },
  {
   "cell_type": "code",
   "execution_count": 53,
   "metadata": {},
   "outputs": [
    {
     "data": {
      "text/plain": [
       "{'init': array([50, 40, 20, 10, 53, 43, 23, 13, 42, 12, 15, 45]),\n",
       " 'U': array([40, 20, 10, 50, 53, 43, 23, 13, 42, 12, 15, 45]),\n",
       " 'R': array([40, 20, 10, 12, 53, 43, 23, 15, 42, 13, 50, 45])}"
      ]
     },
     "execution_count": 53,
     "metadata": {},
     "output_type": "execute_result"
    }
   ],
   "source": [
    "edge_cases = {}\n",
    "s = initState_3()\n",
    "edge_cases['init'] = np.dot(s[edge_pieceDefs], edge_hashOP)\n",
    "for action in \"UR\":\n",
    "    s = doMove_3(s, action)\n",
    "    edge_cases[action] = np.dot(s[edge_pieceDefs], edge_hashOP)\n",
    "edge_cases\n"
   ]
  },
  {
   "cell_type": "code",
   "execution_count": 55,
   "metadata": {},
   "outputs": [],
   "source": [
    "from gym_cube.envs.assets.py222 import py222 as p2"
   ]
  },
  {
   "cell_type": "code",
   "execution_count": 60,
   "metadata": {},
   "outputs": [
    {
     "data": {
      "text/plain": [
       "{'init': array([50, 28, 14, 52, 47, 25, 23]),\n",
       " 'U': array([28, 14, 52, 50, 47, 25, 23]),\n",
       " \"U'\": array([52, 50, 28, 14, 47, 25, 23]),\n",
       " 'U2': array([14, 52, 50, 28, 47, 25, 23]),\n",
       " 'R': array([50, 28, 18,  4, 47, 37, 15]),\n",
       " \"R'\": array([50, 28, 15, 37, 47,  4, 18]),\n",
       " 'R2': array([50, 28, 23, 25, 47, 52, 14]),\n",
       " 'F': array([50, 30,  8, 52, 35, 21, 23]),\n",
       " \"F'\": array([50, 21, 35, 52,  8, 30, 23]),\n",
       " 'F2': array([50, 25, 47, 52, 14, 28, 23]),\n",
       " 'D': array([50, 28, 14, 52, 61, 47, 25]),\n",
       " \"D'\": array([50, 28, 14, 52, 25, 23, 61]),\n",
       " 'D2': array([50, 28, 14, 52, 23, 61, 47]),\n",
       " 'L': array([51, 13, 14, 52, 42, 25, 23]),\n",
       " \"L'\": array([42, 40, 14, 52, 51, 25, 23]),\n",
       " 'L2': array([47, 61, 14, 52, 50, 25, 23]),\n",
       " 'B': array([11, 28, 14, 57, 47, 25, 44]),\n",
       " \"B'\": array([44, 28, 14, 54, 47, 25, 11]),\n",
       " 'B2': array([23, 28, 14, 61, 47, 25, 50]),\n",
       " 'x': array([42, 40, 18,  4, 51, 37, 15]),\n",
       " \"x'\": array([51, 13, 15, 37, 42,  4, 18]),\n",
       " 'x2': array([47, 61, 23, 25, 50, 52, 14]),\n",
       " 'y': array([28, 14, 52, 50, 25, 23, 61]),\n",
       " \"y'\": array([52, 50, 28, 14, 61, 47, 25]),\n",
       " 'y2': array([14, 52, 50, 28, 23, 61, 47]),\n",
       " 'z': array([44, 30,  8, 54, 35, 21, 11]),\n",
       " \"z'\": array([11, 21, 35, 57,  8, 30, 44]),\n",
       " 'z2': array([23, 25, 47, 61, 14, 28, 50])}"
      ]
     },
     "execution_count": 60,
     "metadata": {},
     "output_type": "execute_result"
    }
   ],
   "source": [
    "p2_cases = {}\n",
    "ps = p2.initState()\n",
    "p2_cases['init'] = np.dot(ps[p2.pieceDefs], p2.hashOP)\n",
    "for action in p2.moveInds.keys():\n",
    "    ps = p2.doMove(ps, action)\n",
    "    p2_cases[action] = np.dot(ps[p2.pieceDefs], p2.hashOP)\n",
    "    ps = p2.initState()\n",
    "p2_cases"
   ]
  },
  {
   "cell_type": "code",
   "execution_count": 128,
   "metadata": {},
   "outputs": [
    {
     "name": "stderr",
     "output_type": "stream",
     "text": [
      "/home/yoosoo/anaconda3/envs/mujoco/lib/python3.7/site-packages/ipykernel_launcher.py:5: DeprecationWarning: `np.int` is a deprecated alias for the builtin `int`. To silence this warning, use `int` by itself. Doing this will not modify any behavior and is safe. When replacing `np.int`, you may wish to use e.g. `np.int64` or `np.int32` to specify the precision. If you wish to review your current use, check the release note link for additional information.\n",
      "Deprecated in NumPy 1.20; for more details and guidance: https://numpy.org/devdocs/release/1.20.0-notes.html#deprecations\n",
      "  \"\"\"\n",
      "/home/yoosoo/anaconda3/envs/mujoco/lib/python3.7/site-packages/ipykernel_launcher.py:16: DeprecationWarning: `np.int` is a deprecated alias for the builtin `int`. To silence this warning, use `int` by itself. Doing this will not modify any behavior and is safe. When replacing `np.int`, you may wish to use e.g. `np.int64` or `np.int32` to specify the precision. If you wish to review your current use, check the release note link for additional information.\n",
      "Deprecated in NumPy 1.20; for more details and guidance: https://numpy.org/devdocs/release/1.20.0-notes.html#deprecations\n",
      "  \n"
     ]
    }
   ],
   "source": [
    "corner_hashOP = np.array([1, 2, 10]) # 3d\n",
    "edge_hashOP = np.array([1, 10]) # 2d\n",
    "\n",
    "# [max hash number, [cubelet position, face position]] z y x\n",
    "corner_pieceInds = np.zeros([62, 2], dtype=np.int)\n",
    "corner_pieceInds[50] = [0, 0]; corner_pieceInds[54] = [0, 1]; corner_pieceInds[13] = [0, 2]\n",
    "corner_pieceInds[28] = [1, 0]; corner_pieceInds[ 8] = [1, 1]; corner_pieceInds[42] = [1, 2]\n",
    "corner_pieceInds[14] = [2, 0]; corner_pieceInds[ 5] = [2, 1]; corner_pieceInds[12] = [2, 2]\n",
    "corner_pieceInds[52] = [3, 0]; corner_pieceInds[11] = [3, 1]; corner_pieceInds[15] = [3, 2]\n",
    "\n",
    "corner_pieceInds[61] = [4, 0]; corner_pieceInds[44] = [4, 1]; corner_pieceInds[51] = [4, 2]\n",
    "corner_pieceInds[47] = [5, 0]; corner_pieceInds[30] = [5, 1]; corner_pieceInds[60] = [5, 2]\n",
    "corner_pieceInds[17] = [6, 0]; corner_pieceInds[35] = [6, 1]; corner_pieceInds[18] = [6, 2]\n",
    "corner_pieceInds[23] = [7, 0]; corner_pieceInds[56] = [7, 1]; corner_pieceInds[21] = [7, 2]\n",
    "\n",
    "edge_pieceInds = np.zeros([55, 2], dtype=np.int)\n",
    "# 40과 43이 중복이다 왜??\n",
    "edge_pieceInds[50] = [0, 0]; edge_pieceInds[5] = [0, 1]\n",
    "edge_pieceInds[40] = [1, 0]; edge_pieceInds[40] = [1, 1]\n",
    "edge_pieceInds[20] = [2, 0]; edge_pieceInds[2] = [2, 1]\n",
    "edge_pieceInds[10] = [3, 0]; edge_pieceInds[13] = [3, 1]\n",
    "\n",
    "edge_pieceInds[53] = [4, 0]; edge_pieceInds[35] = [4, 1]\n",
    "edge_pieceInds[43] = [5, 0]; edge_pieceInds[43] = [5, 1]\n",
    "edge_pieceInds[23] = [6, 0]; edge_pieceInds[32] = [6, 1]\n",
    "edge_pieceInds[13] = [7, 0]; edge_pieceInds[13] = [7, 1]\n",
    "\n",
    "edge_pieceInds[42] = [8, 0]; edge_pieceInds[24] = [8, 1]\n",
    "edge_pieceInds[12] = [9, 0]; edge_pieceInds[21] = [9, 1]\n",
    "\n",
    "edge_pieceInds[15] = [10, 0]; edge_pieceInds[51] = [10, 1]\n",
    "edge_pieceInds[45] = [11, 0]; edge_pieceInds[54] = [11, 1]"
   ]
  },
  {
   "cell_type": "code",
   "execution_count": 133,
   "metadata": {},
   "outputs": [],
   "source": [
    "def pos_to_state_3(pos):\n",
    "    # pos: 20, 2 -> [cube name, [cubelet position, face position]]\n",
    "    # state: 20, 24\n",
    "    state = np.zeros([20, 24], dtype=np.int)\n",
    "    for position, pos_element in enumerate(pos):\n",
    "        if position < 8:\n",
    "            state_value = pos_element[0] * 3 + pos_element[1]\n",
    "        else:\n",
    "            state_value = pos_element[0] * 2 + pos_element[1]\n",
    "    \n",
    "        state[position][state_value] = 1.0\n",
    "    return state\n"
   ]
  },
  {
   "cell_type": "code",
   "execution_count": 140,
   "metadata": {},
   "outputs": [],
   "source": [
    "def getOP_3(s):\n",
    "    corner_op = corner_pieceInds[np.dot(s[corner_pieceDefs], corner_hashOP)]\n",
    "    edge_op = edge_pieceInds[np.dot(s[edge_pieceDefs], edge_hashOP)]\n",
    "    return np.concatenate((corner_op, edge_op))"
   ]
  },
  {
   "cell_type": "code",
   "execution_count": 142,
   "metadata": {},
   "outputs": [
    {
     "data": {
      "text/plain": [
       "array([[ 0,  0],\n",
       "       [ 1,  0],\n",
       "       [ 2,  0],\n",
       "       [ 3,  0],\n",
       "       [ 4,  0],\n",
       "       [ 5,  0],\n",
       "       [ 6,  0],\n",
       "       [ 7,  0],\n",
       "       [ 0,  0],\n",
       "       [ 1,  1],\n",
       "       [ 2,  0],\n",
       "       [ 3,  0],\n",
       "       [ 4,  0],\n",
       "       [ 5,  1],\n",
       "       [ 6,  0],\n",
       "       [ 7,  1],\n",
       "       [ 8,  0],\n",
       "       [ 9,  0],\n",
       "       [10,  0],\n",
       "       [11,  0]])"
      ]
     },
     "execution_count": 142,
     "metadata": {},
     "output_type": "execute_result"
    }
   ],
   "source": [
    "s = initState_3()\n",
    "pos = getOP_3(s)\n",
    "pos"
   ]
  },
  {
   "cell_type": "code",
   "execution_count": 143,
   "metadata": {},
   "outputs": [
    {
     "ename": "TypeError",
     "evalue": "'numpy.int64' object does not support item assignment",
     "output_type": "error",
     "traceback": [
      "\u001b[0;31m---------------------------------------------------------------------------\u001b[0m",
      "\u001b[0;31mTypeError\u001b[0m                                 Traceback (most recent call last)",
      "\u001b[0;32m/tmp/ipykernel_12087/3931430733.py\u001b[0m in \u001b[0;36m<module>\u001b[0;34m\u001b[0m\n\u001b[0;32m----> 1\u001b[0;31m \u001b[0mstate\u001b[0m \u001b[0;34m=\u001b[0m \u001b[0mpos_to_state_3\u001b[0m\u001b[0;34m(\u001b[0m\u001b[0mpos\u001b[0m\u001b[0;34m)\u001b[0m\u001b[0;34m\u001b[0m\u001b[0;34m\u001b[0m\u001b[0m\n\u001b[0m",
      "\u001b[0;32m/tmp/ipykernel_12087/2448107454.py\u001b[0m in \u001b[0;36mpos_to_state_3\u001b[0;34m(pos)\u001b[0m\n\u001b[1;32m      9\u001b[0m             \u001b[0mstate_value\u001b[0m \u001b[0;34m=\u001b[0m \u001b[0mpos_element\u001b[0m\u001b[0;34m[\u001b[0m\u001b[0;36m0\u001b[0m\u001b[0;34m]\u001b[0m \u001b[0;34m*\u001b[0m \u001b[0;36m2\u001b[0m \u001b[0;34m+\u001b[0m \u001b[0mpos_element\u001b[0m\u001b[0;34m[\u001b[0m\u001b[0;36m1\u001b[0m\u001b[0;34m]\u001b[0m\u001b[0;34m\u001b[0m\u001b[0;34m\u001b[0m\u001b[0m\n\u001b[1;32m     10\u001b[0m \u001b[0;34m\u001b[0m\u001b[0m\n\u001b[0;32m---> 11\u001b[0;31m         \u001b[0mstate\u001b[0m\u001b[0;34m[\u001b[0m\u001b[0mposition\u001b[0m\u001b[0;34m]\u001b[0m\u001b[0;34m[\u001b[0m\u001b[0mstate_value\u001b[0m\u001b[0;34m]\u001b[0m \u001b[0;34m=\u001b[0m \u001b[0;36m1.0\u001b[0m\u001b[0;34m\u001b[0m\u001b[0;34m\u001b[0m\u001b[0m\n\u001b[0m\u001b[1;32m     12\u001b[0m     \u001b[0;32mreturn\u001b[0m \u001b[0mstate\u001b[0m\u001b[0;34m\u001b[0m\u001b[0;34m\u001b[0m\u001b[0m\n",
      "\u001b[0;31mTypeError\u001b[0m: 'numpy.int64' object does not support item assignment"
     ]
    }
   ],
   "source": [
    "state = pos_to_state_3(pos)"
   ]
  },
  {
   "cell_type": "code",
   "execution_count": 144,
   "metadata": {},
   "outputs": [],
   "source": [
    "state = np.zeros([20, 24])"
   ]
  },
  {
   "cell_type": "code",
   "execution_count": 145,
   "metadata": {},
   "outputs": [
    {
     "data": {
      "text/plain": [
       "0.0"
      ]
     },
     "execution_count": 145,
     "metadata": {},
     "output_type": "execute_result"
    }
   ],
   "source": [
    "state[0][23]"
   ]
  },
  {
   "cell_type": "code",
   "execution_count": null,
   "metadata": {},
   "outputs": [],
   "source": []
  }
 ],
 "metadata": {
  "kernelspec": {
   "display_name": "Python 3.7.13 ('mujoco')",
   "language": "python",
   "name": "python3"
  },
  "language_info": {
   "codemirror_mode": {
    "name": "ipython",
    "version": 3
   },
   "file_extension": ".py",
   "mimetype": "text/x-python",
   "name": "python",
   "nbconvert_exporter": "python",
   "pygments_lexer": "ipython3",
   "version": "3.7.13"
  },
  "orig_nbformat": 4,
  "vscode": {
   "interpreter": {
    "hash": "8b4e529eab4ed19fd07f95cc36b022ef138618a03814600268d763f0efe79577"
   }
  }
 },
 "nbformat": 4,
 "nbformat_minor": 2
}
